{
 "cells": [
  {
   "cell_type": "code",
   "execution_count": 1,
   "metadata": {},
   "outputs": [
    {
     "name": "stdout",
     "output_type": "stream",
     "text": [
      "Jupyter environment detected. Enabling Open3D WebVisualizer.\n",
      "[Open3D INFO] WebRTC GUI backend enabled.\n",
      "[Open3D INFO] WebRTCWindowSystem: HTTP handshake server disabled.\n"
     ]
    }
   ],
   "source": [
    "import open3d as o3d\n",
    "import numpy as np\n",
    "import os"
   ]
  },
  {
   "cell_type": "code",
   "execution_count": 17,
   "metadata": {},
   "outputs": [],
   "source": [
    "CLOUD_PATH = 'C:\\\\Users\\\\norad\\\\ETTEPLAN\\\\DATA\\\\DATA_3F\\\\tray-b-4-a_L2_part_1_downsample_10.ply'\n",
    "base_filename = os.path.splitext(os.path.basename(CLOUD_PATH))[0]\n",
    "\n",
    "OUTPUT_FOLDER = 'C:\\\\Users\\\\norad\\\\ETTEPLAN\\\\DATA\\\\DATA_3F_INSIDE\\\\'\n",
    "output_file_name = os.path.basename(CLOUD_PATH).replace(\".ply\", \"_without_ears.ply\")\n",
    "OUTPUT_PATH = os.path.join(OUTPUT_FOLDER, output_file_name)\n",
    "\n",
    "epsilon = 0.01"
   ]
  },
  {
   "cell_type": "code",
   "execution_count": 18,
   "metadata": {},
   "outputs": [
    {
     "data": {
      "text/plain": [
       "'C:\\\\Users\\\\norad\\\\ETTEPLAN\\\\DATA\\\\DATA_3F_INSIDE\\\\tray-b-4-a_L2_part_1_downsample_10_without_ears.ply'"
      ]
     },
     "execution_count": 18,
     "metadata": {},
     "output_type": "execute_result"
    }
   ],
   "source": [
    "OUTPUT_PATH"
   ]
  },
  {
   "cell_type": "code",
   "execution_count": 19,
   "metadata": {},
   "outputs": [],
   "source": [
    "pcd = o3d.io.read_point_cloud(CLOUD_PATH)"
   ]
  },
  {
   "cell_type": "code",
   "execution_count": 20,
   "metadata": {},
   "outputs": [],
   "source": [
    "points = np.asarray(pcd.points)\n",
    "colors = np.asarray(pcd.colors)\n",
    "min_z = np.min(points[:, 2])\n",
    "max_z = np.max(points[:, 2])\n",
    "z_length = max_z - min_z "
   ]
  },
  {
   "cell_type": "code",
   "execution_count": 21,
   "metadata": {},
   "outputs": [],
   "source": [
    "min_bound = np.array([-0.4285+epsilon, -0.6505+epsilon, np.min(points[:, 2])])\n",
    "max_bound = np.array([0.4285-epsilon, 0.6505-epsilon, np.max(points[:, 2])])\n",
    "\n",
    "mask = np.all((points >= min_bound) & (points <= max_bound), axis=1) \n",
    "filtered_points = points[mask]\n",
    "filtered_colors = colors[mask]"
   ]
  },
  {
   "cell_type": "code",
   "execution_count": 22,
   "metadata": {},
   "outputs": [],
   "source": [
    "filtered_pcd = o3d.geometry.PointCloud()\n",
    "filtered_pcd.points = o3d.utility.Vector3dVector(filtered_points)\n",
    "filtered_pcd.colors = o3d.utility.Vector3dVector(filtered_colors)"
   ]
  },
  {
   "cell_type": "code",
   "execution_count": 23,
   "metadata": {},
   "outputs": [
    {
     "data": {
      "text/plain": [
       "True"
      ]
     },
     "execution_count": 23,
     "metadata": {},
     "output_type": "execute_result"
    }
   ],
   "source": [
    "o3d.io.write_point_cloud(OUTPUT_PATH, filtered_pcd)"
   ]
  }
 ],
 "metadata": {
  "kernelspec": {
   "display_name": "etteplan",
   "language": "python",
   "name": "python3"
  },
  "language_info": {
   "codemirror_mode": {
    "name": "ipython",
    "version": 3
   },
   "file_extension": ".py",
   "mimetype": "text/x-python",
   "name": "python",
   "nbconvert_exporter": "python",
   "pygments_lexer": "ipython3",
   "version": "3.11.9"
  }
 },
 "nbformat": 4,
 "nbformat_minor": 2
}
