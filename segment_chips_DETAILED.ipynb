{
 "cells": [
  {
   "cell_type": "code",
   "execution_count": 50,
   "metadata": {},
   "outputs": [],
   "source": [
    "import open3d as o3d\n",
    "import numpy as np\n",
    "import os"
   ]
  },
  {
   "cell_type": "markdown",
   "metadata": {},
   "source": [
    "HYPERPARAMETER"
   ]
  },
  {
   "cell_type": "code",
   "execution_count": 67,
   "metadata": {},
   "outputs": [],
   "source": [
    "CLOUD_PATH = '../DATA/tray-b-4-e_L2.pcd'\n",
    "base_filename = os.path.splitext(os.path.basename(CLOUD_PATH))[0]\n",
    "\n",
    "OUTPUT_PATH = '../DATA/CREATED_PRE_PROCESS/' + base_filename +'_'\n",
    "SAVE_MODE = True #save intermediate steps\n",
    "FINAL_SAVE_MODE = True #save final clean chips\n",
    "\n",
    "DOWNSAMPLE_FACTOR = 10\n",
    "THRESHOLD_FILTER_LARGE_PARTS = 650000\n",
    "SOR_NB_NEIGHBORS = 100 #jessica 500\n",
    "SOR_STD_RATIO = 3 #jessica 5\n",
    "RANSAC_DISTANCE_THRESHOLD = 120\n",
    "RANSAC_N = 2000\n",
    "RANSAC_NUM_ITERATIONS = 1000\n"
   ]
  },
  {
   "cell_type": "code",
   "execution_count": 68,
   "metadata": {},
   "outputs": [],
   "source": [
    "def split_chips(pcd):\n",
    "    # Convert the point cloud to numpy arrays for easier manipulation\n",
    "    points = np.asarray(pcd.points)\n",
    "    colors = np.asarray(pcd.colors)\n",
    "\n",
    "    # Get the min and max bounds of the point cloud\n",
    "    min_bound = points.min(axis=0)\n",
    "    max_bound = points.max(axis=0)\n",
    "\n",
    "    # Calculate the range along each axis\n",
    "    ranges = max_bound - min_bound\n",
    "    longest_axis_index = np.argmax(ranges)  # Find the index of the longest axis\n",
    "\n",
    "    # Define midpoints for partitioning along the longest axis\n",
    "    midpoints = np.linspace(min_bound[longest_axis_index], max_bound[longest_axis_index], num=5)\n",
    "\n",
    "    # Split the point cloud into 4 parts using the reverse order\n",
    "    masks = [\n",
    "        points[:, longest_axis_index] >= midpoints[3],  # Part 1\n",
    "        (points[:, longest_axis_index] >= midpoints[2]) & (points[:, longest_axis_index] < midpoints[3]),  #Part 2\n",
    "        (points[:, longest_axis_index] >= midpoints[1]) & (points[:, longest_axis_index] < midpoints[2]),  #Part 3\n",
    "        points[:, longest_axis_index] < midpoints[1]  #Part 4\n",
    "    ]\n",
    "\n",
    "    parts = []\n",
    "    for mask in masks:\n",
    "        # Filter points and colors based on the mask\n",
    "        part_points = points[mask]\n",
    "        part_colors = colors[mask]\n",
    "\n",
    "        # Create a new point cloud for each part\n",
    "        part_pcd = o3d.geometry.PointCloud()\n",
    "        part_pcd.points = o3d.utility.Vector3dVector(part_points)\n",
    "        part_pcd.colors = o3d.utility.Vector3dVector(part_colors)\n",
    "\n",
    "        # Add the part to the list\n",
    "        parts.append(part_pcd)\n",
    "\n",
    "    return parts\n",
    "\n",
    "def filter_large_parts(parts, min_points_threshold=THRESHOLD_FILTER_LARGE_PARTS):\n",
    "    # Dictionary to store point clouds that meet the condition\n",
    "    filtered_parts = {}\n",
    "\n",
    "    for i, part in enumerate(parts):\n",
    "        # Number of points in the current point cloud\n",
    "        num_points = np.asarray(part.points).shape[0]\n",
    "        \n",
    "        # Check if the point cloud has more than the minimum number of points\n",
    "        if num_points >= min_points_threshold:\n",
    "            # Store the point cloud in the dictionary using its original index as the key\n",
    "            filtered_parts[i] = part\n",
    "\n",
    "    return filtered_parts\n",
    "\n",
    "\n",
    "def cut_chip_edges(filtered_parts):\n",
    "    # Iterate over the filtered parts (a dictionary with index and point clouds)\n",
    "    trimmed_parts = {}\n",
    "    \n",
    "    for index, part_pcd in filtered_parts.items():\n",
    "        # Convert the point cloud to numpy arrays for easier manipulation\n",
    "        part_points = np.asarray(part_pcd.points)\n",
    "        part_colors = np.asarray(part_pcd.colors)\n",
    "        \n",
    "        # Get the min and max bounds of the point cloud\n",
    "        min_bound = part_points.min(axis=0)\n",
    "        max_bound = part_points.max(axis=0)\n",
    "        ranges = max_bound - min_bound\n",
    "        longest_axis_index = np.argmax(ranges)  # Find the index of the longest axis\n",
    "\n",
    "        # Define endpoints for trimming along the longest axis\n",
    "        endpoints = np.linspace(min_bound[longest_axis_index], max_bound[longest_axis_index], num=2)\n",
    "        \n",
    "        # Set the upper and lower ratios for trimming the edges\n",
    "        uppernumberratio = 0.14  # Percentage of the top part to trim\n",
    "        lowernumberratio = 0.02  # Percentage of the bottom part to trim\n",
    "\n",
    "        # Create a mask to filter points and colors\n",
    "        mask = (\n",
    "            (endpoints[0] + (endpoints[1] - endpoints[0]) * lowernumberratio) < part_points[:, 1]\n",
    "        ) & (part_points[:, 1] < endpoints[1] - (endpoints[1] - endpoints[0]) * uppernumberratio)\n",
    "\n",
    "        # Apply the mask to filter both points and colors\n",
    "        trimmed_points = part_points[mask]\n",
    "        trimmed_colors = part_colors[mask]\n",
    "\n",
    "        # Create a new trimmed point cloud\n",
    "        trimmed_pcd = o3d.geometry.PointCloud()\n",
    "        trimmed_pcd.points = o3d.utility.Vector3dVector(trimmed_points)\n",
    "        trimmed_pcd.colors = o3d.utility.Vector3dVector(trimmed_colors)\n",
    "\n",
    "        # Add the trimmed point cloud back into a dictionary with the original index\n",
    "        trimmed_parts[index] = trimmed_pcd\n",
    "       \n",
    "    return trimmed_parts\n",
    "\n",
    "def SOR(chip):\n",
    "    # Remove noise, SOR removes point outside main structure\n",
    "    _, ind = chip.remove_statistical_outlier(nb_neighbors=SOR_NB_NEIGHBORS, std_ratio=SOR_STD_RATIO) # jessica_500,5\n",
    "    inlier_cloud = chip.select_by_index(ind)\n",
    "    outlier_cloud = chip.select_by_index(ind, invert=True)\n",
    "    return inlier_cloud, outlier_cloud\n",
    "\n",
    "def RANSAC(chip, distance_threshold=RANSAC_DISTANCE_THRESHOLD, ransac_n=RANSAC_N, num_iterations=RANSAC_NUM_ITERATIONS):\n",
    "    # Segment the largest plane using RANSAC\n",
    "    _, inliers = chip.segment_plane(distance_threshold, ransac_n, num_iterations)\n",
    "    inlier_cloud = chip.select_by_index(inliers)\n",
    "    outlier_cloud = chip.select_by_index(inliers, invert=True)\n",
    "    return inlier_cloud, outlier_cloud\n",
    "\n",
    "def center_and_normalize(part):\n",
    "    # Convert point cloud to numpy array\n",
    "    points = np.asarray(part.points)\n",
    "\n",
    "    # Step 1: Center the point cloud by subtracting the mean of the points\n",
    "    centroid = np.mean(points, axis=0)\n",
    "    centered_points = points - centroid\n",
    "\n",
    "    # Step 2: Normalize the point cloud\n",
    "    max_distance = np.max(np.linalg.norm(centered_points, axis=1))\n",
    "    normalized_points = centered_points / max_distance\n",
    "\n",
    "    # Create a new point cloud with the normalized points\n",
    "    normalized_pcd = o3d.geometry.PointCloud()\n",
    "    normalized_pcd.points = o3d.utility.Vector3dVector(normalized_points)\n",
    "    normalized_pcd.colors = part.colors  # Retain the original colors if needed\n",
    "\n",
    "    return normalized_pcd"
   ]
  },
  {
   "cell_type": "markdown",
   "metadata": {},
   "source": [
    "# STEP 1: DOWNSAMPLE"
   ]
  },
  {
   "cell_type": "code",
   "execution_count": 69,
   "metadata": {},
   "outputs": [
    {
     "data": {
      "text/plain": [
       "PointCloud with 8454673 points."
      ]
     },
     "execution_count": 69,
     "metadata": {},
     "output_type": "execute_result"
    }
   ],
   "source": [
    "pcd = o3d.io.read_point_cloud(CLOUD_PATH)\n",
    "pcd"
   ]
  },
  {
   "cell_type": "code",
   "execution_count": 70,
   "metadata": {},
   "outputs": [
    {
     "data": {
      "text/plain": [
       "PointCloud with 845468 points."
      ]
     },
     "execution_count": 70,
     "metadata": {},
     "output_type": "execute_result"
    }
   ],
   "source": [
    "downsampled_pcd = pcd.uniform_down_sample(DOWNSAMPLE_FACTOR)\n",
    "downsampled_pcd"
   ]
  },
  {
   "cell_type": "code",
   "execution_count": 71,
   "metadata": {},
   "outputs": [],
   "source": [
    "if SAVE_MODE:\n",
    "    o3d.io.write_point_cloud(OUTPUT_PATH + 'downsampled_pcd.ply', downsampled_pcd)"
   ]
  },
  {
   "cell_type": "markdown",
   "metadata": {},
   "source": [
    "# STEP 2: SPLIT CLOUD in 4 CHIPS"
   ]
  },
  {
   "cell_type": "code",
   "execution_count": 72,
   "metadata": {},
   "outputs": [
    {
     "data": {
      "text/plain": [
       "[PointCloud with 10987 points.,\n",
       " PointCloud with 12867 points.,\n",
       " PointCloud with 809894 points.,\n",
       " PointCloud with 11720 points.]"
      ]
     },
     "execution_count": 72,
     "metadata": {},
     "output_type": "execute_result"
    }
   ],
   "source": [
    "parts = split_chips(downsampled_pcd)\n",
    "parts "
   ]
  },
  {
   "cell_type": "code",
   "execution_count": 73,
   "metadata": {},
   "outputs": [],
   "source": [
    "if SAVE_MODE:\n",
    "    for i, part in enumerate(parts):\n",
    "        o3d.io.write_point_cloud(OUTPUT_PATH + f\"part_{i+1}.ply\", part)"
   ]
  },
  {
   "cell_type": "markdown",
   "metadata": {},
   "source": [
    "# STEP 3: Filter out empty or manipulated (chips with white paper on top) chips"
   ]
  },
  {
   "cell_type": "code",
   "execution_count": 74,
   "metadata": {},
   "outputs": [
    {
     "data": {
      "text/plain": [
       "{2: PointCloud with 809894 points.}"
      ]
     },
     "execution_count": 74,
     "metadata": {},
     "output_type": "execute_result"
    }
   ],
   "source": [
    "filtered_parts = filter_large_parts(parts)\n",
    "filtered_parts"
   ]
  },
  {
   "cell_type": "code",
   "execution_count": 75,
   "metadata": {},
   "outputs": [
    {
     "name": "stdout",
     "output_type": "stream",
     "text": [
      "1 parts remaining after filtering.\n"
     ]
    }
   ],
   "source": [
    "# Check if there are any parts left in the dictionary\n",
    "if len(filtered_parts) == 0:\n",
    "    raise ValueError(\"No parts remain after filtering. Please check the filtering criteria.\")\n",
    "else:\n",
    "    print(f\"{len(filtered_parts)} parts remaining after filtering.\")"
   ]
  },
  {
   "cell_type": "code",
   "execution_count": 76,
   "metadata": {},
   "outputs": [],
   "source": [
    "if SAVE_MODE:\n",
    "    for index, part in filtered_parts.items():\n",
    "        o3d.io.write_point_cloud(OUTPUT_PATH + f\"filtered_part_{index+1}.ply\", part)"
   ]
  },
  {
   "cell_type": "markdown",
   "metadata": {},
   "source": [
    "# STEP 4: CUT OUT TRAY LABELS {1,2,3,4}"
   ]
  },
  {
   "cell_type": "code",
   "execution_count": 77,
   "metadata": {},
   "outputs": [
    {
     "data": {
      "text/plain": [
       "{2: PointCloud with 796341 points.}"
      ]
     },
     "execution_count": 77,
     "metadata": {},
     "output_type": "execute_result"
    }
   ],
   "source": [
    "trimmed_parts = cut_chip_edges(filtered_parts)\n",
    "trimmed_parts"
   ]
  },
  {
   "cell_type": "code",
   "execution_count": 78,
   "metadata": {},
   "outputs": [],
   "source": [
    "if SAVE_MODE:\n",
    "    for index, part in trimmed_parts.items():\n",
    "        o3d.io.write_point_cloud(OUTPUT_PATH + f\"trimmed_filtered_part_{index+1}.ply\", part)"
   ]
  },
  {
   "cell_type": "markdown",
   "metadata": {},
   "source": [
    "# STEP 5: NOISE REMOVAL"
   ]
  },
  {
   "cell_type": "markdown",
   "metadata": {},
   "source": [
    "RANSAC"
   ]
  },
  {
   "cell_type": "code",
   "execution_count": 79,
   "metadata": {},
   "outputs": [
    {
     "name": "stdout",
     "output_type": "stream",
     "text": [
      "Processed part 3: Inliers and Outliers segmented.\n",
      "Processed part 3: Inliers = 764159 points, Outliers = 32182 points.\n"
     ]
    }
   ],
   "source": [
    "ransac_results = {}\n",
    "\n",
    "for index, part_pcd in trimmed_parts.items():\n",
    "    inlier_cloud, outlier_cloud = RANSAC(part_pcd)\n",
    "        \n",
    "    ransac_results[index] = {\n",
    "        'inliers': inlier_cloud,\n",
    "        'outliers': outlier_cloud\n",
    "    }\n",
    "\n",
    "    print(f\"Processed part {index+1}: Inliers and Outliers segmented.\")\n",
    "\n",
    "    num_inliers = len(inlier_cloud.points)\n",
    "    num_outliers = len(outlier_cloud.points)\n",
    "\n",
    "    print(f\"Processed part {index+1}: Inliers = {num_inliers} points, Outliers = {num_outliers} points.\")"
   ]
  },
  {
   "cell_type": "code",
   "execution_count": 80,
   "metadata": {},
   "outputs": [],
   "source": [
    "if SAVE_MODE:\n",
    "    for index, result in ransac_results.items():\n",
    "        inliers = result['inliers']\n",
    "        outliers = result['outliers']\n",
    "        \n",
    "        o3d.io.write_point_cloud(OUTPUT_PATH + f\"inliers_part_{index+1}.ply\", inliers)\n",
    "        o3d.io.write_point_cloud(OUTPUT_PATH + f\"outliers_part_{index+1}.ply\", outliers)"
   ]
  },
  {
   "cell_type": "markdown",
   "metadata": {},
   "source": [
    "SOR"
   ]
  },
  {
   "cell_type": "code",
   "execution_count": 81,
   "metadata": {},
   "outputs": [
    {
     "name": "stdout",
     "output_type": "stream",
     "text": [
      "Processed part 3: SOR Inliers = 754091 points, SOR Outliers = 10068 points.\n"
     ]
    }
   ],
   "source": [
    "sor_results = {}\n",
    "\n",
    "# Iterate through RANSAC results\n",
    "for index, result in ransac_results.items():\n",
    "    inliers = result['inliers']\n",
    "    \n",
    "    # Apply SOR on the inliers from RANSAC\n",
    "    inlier_cloud_sor, outlier_cloud_sor = SOR(inliers)\n",
    "    \n",
    "    # Store the SOR inliers and outliers in the dictionary\n",
    "    sor_results[index] = {\n",
    "        'inliers_after_sor': inlier_cloud_sor,\n",
    "        'outliers_after_sor': outlier_cloud_sor\n",
    "    }\n",
    "\n",
    "    # Get the number of points in SOR inliers and outliers\n",
    "    num_inliers_sor = len(inlier_cloud_sor.points)\n",
    "    num_outliers_sor = len(outlier_cloud_sor.points)\n",
    "\n",
    "    # Print the number of points for SOR results\n",
    "    print(f\"Processed part {index+1}: SOR Inliers = {num_inliers_sor} points, SOR Outliers = {num_outliers_sor} points.\")\n"
   ]
  },
  {
   "cell_type": "code",
   "execution_count": 82,
   "metadata": {},
   "outputs": [],
   "source": [
    "if SAVE_MODE:\n",
    "    for index, result in sor_results.items():\n",
    "        inliers_after_sor = result['inliers_after_sor']\n",
    "        outliers_after_sor = result['outliers_after_sor']\n",
    "        \n",
    "        # Save the SOR inliers and outliers\n",
    "        o3d.io.write_point_cloud(OUTPUT_PATH + f\"sor_inliers_part_{index+1}.ply\", inliers_after_sor)\n",
    "        o3d.io.write_point_cloud(OUTPUT_PATH + f\"sor_outliers_part_{index+1}.ply\", outliers_after_sor)"
   ]
  },
  {
   "cell_type": "markdown",
   "metadata": {},
   "source": [
    "# STEP 6: CENTER AND NORMALIZE"
   ]
  },
  {
   "cell_type": "code",
   "execution_count": 83,
   "metadata": {},
   "outputs": [],
   "source": [
    "for index, result in sor_results.items():\n",
    "    inliers = result['inliers_after_sor']\n",
    "\n",
    "    # Center and normalize each inlier point cloud\n",
    "    normalized_pcd = center_and_normalize(inliers)\n",
    "\n",
    "    if FINAL_SAVE_MODE:\n",
    "    # Save the normalized inlier point cloud as a .ply file\n",
    "        o3d.io.write_point_cloud(OUTPUT_PATH + base_filename +f\"_part_{index+1}.ply\", normalized_pcd)"
   ]
  }
 ],
 "metadata": {
  "kernelspec": {
   "display_name": "etteplan",
   "language": "python",
   "name": "python3"
  },
  "language_info": {
   "codemirror_mode": {
    "name": "ipython",
    "version": 3
   },
   "file_extension": ".py",
   "mimetype": "text/x-python",
   "name": "python",
   "nbconvert_exporter": "python",
   "pygments_lexer": "ipython3",
   "version": "3.11.9"
  }
 },
 "nbformat": 4,
 "nbformat_minor": 2
}
