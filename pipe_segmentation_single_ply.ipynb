{
 "cells": [
  {
   "cell_type": "code",
   "execution_count": 1,
   "metadata": {},
   "outputs": [
    {
     "name": "stdout",
     "output_type": "stream",
     "text": [
      "Jupyter environment detected. Enabling Open3D WebVisualizer.\n",
      "[Open3D INFO] WebRTC GUI backend enabled.\n",
      "[Open3D INFO] WebRTCWindowSystem: HTTP handshake server disabled.\n"
     ]
    }
   ],
   "source": [
    "import open3d as o3d\n",
    "import numpy as np\n",
    "import os\n",
    "import matplotlib.pyplot as plt\n",
    "import scipy.ndimage"
   ]
  },
  {
   "cell_type": "code",
   "execution_count": 2,
   "metadata": {},
   "outputs": [],
   "source": [
    "CLOUD_PATH = 'C:\\\\Users\\\\norad\\\\ETTEPLAN\\\\DATA\\\\DATA_3F_INSIDE\\\\tray-b-4-d_L2_part_3_downsample_10_without_ears.ply'\n",
    "base_filename = os.path.splitext(os.path.basename(CLOUD_PATH))[0]\n",
    "OUTPUT_FOLDER = 'C:\\\\Users\\\\norad\\\\ETTEPLAN\\\\DATA\\\\DATA_PIPE_SEGMENTATION\\\\'\n",
    "output_file_name_pipes = os.path.basename(CLOUD_PATH).replace(\".ply\", \"_seg_pipes.ply\")\n",
    "output_file_name_basis = os.path.basename(CLOUD_PATH).replace(\".ply\", \"_seg_basis.ply\")\n",
    "OUTPUT_PATH_PIPES = os.path.join(OUTPUT_FOLDER, output_file_name_pipes)\n",
    "OUTPUT_PATH_BASIS = os.path.join(OUTPUT_FOLDER, output_file_name_basis)"
   ]
  },
  {
   "cell_type": "code",
   "execution_count": 3,
   "metadata": {},
   "outputs": [],
   "source": [
    "pcd = o3d.io.read_point_cloud(CLOUD_PATH)\n",
    "colors = np.asarray(pcd.colors)"
   ]
  },
  {
   "cell_type": "code",
   "execution_count": 4,
   "metadata": {},
   "outputs": [],
   "source": [
    "# Convert RGB values to a scalar field (grayscale conversion based on human perception)\n",
    "scalar_field = 0.2989 * colors[:, 0] + 0.5870 * colors[:, 1] + 0.1140 * colors[:, 2]\n",
    "\n",
    "# Define threshold to separate 'main chip' from 'pipes' using the scalar field\n",
    "threshold = 22.43421053 / 255  \n",
    "\n",
    "# Identify points belonging to the 'main chip' (below the threshold) and 'pipes' (above or equal to threshold)\n",
    "main_chip_points = np.where(scalar_field < threshold)\n",
    "pipes_points = np.where(scalar_field >= threshold)\n",
    "\n",
    "# Select the 'main chip' and 'pipes' point clouds based on the indices\n",
    "main_chip = pcd.select_by_index(main_chip_points[0])\n",
    "pipes = pcd.select_by_index(pipes_points[0])"
   ]
  },
  {
   "cell_type": "code",
   "execution_count": 5,
   "metadata": {},
   "outputs": [],
   "source": [
    "# Perform DBSCAN clustering on the 'pipes' point cloud to identify connected components\n",
    "labels = np.array(pipes.cluster_dbscan(eps=0.01, min_points=10))\n",
    "\n",
    "# Get unique cluster labels and the number of points in each cluster\n",
    "unique_labels, counts = np.unique(labels, return_counts=True)\n",
    "\n",
    "# Find the label of the largest connected component (excluding noise, labeled as -1)\n",
    "largest_component_label = unique_labels[counts.argmax()]\n",
    "\n",
    "# Separate points that belong to the largest component and the smaller components\n",
    "largest_component_points = np.where(labels == largest_component_label)[0]\n",
    "remaining_pipes_points = np.where(labels != largest_component_label)[0]\n",
    "\n",
    "# Select points for the largest component of the 'pipes'\n",
    "remaining_points_in_pipes = pipes.select_by_index(largest_component_points)\n",
    "\n",
    "# Select the smaller components that will be merged into 'main chip'\n",
    "small_components = pipes.select_by_index(remaining_pipes_points)\n",
    "\n",
    "# Add smaller components back to 'main chip'\n",
    "main_chip += small_components\n"
   ]
  },
  {
   "cell_type": "code",
   "execution_count": 6,
   "metadata": {},
   "outputs": [
    {
     "data": {
      "text/plain": [
       "True"
      ]
     },
     "execution_count": 6,
     "metadata": {},
     "output_type": "execute_result"
    }
   ],
   "source": [
    "o3d.io.write_point_cloud(OUTPUT_PATH_BASIS, main_chip)\n",
    "o3d.io.write_point_cloud(OUTPUT_PATH_PIPES, remaining_points_in_pipes)"
   ]
  }
 ],
 "metadata": {
  "kernelspec": {
   "display_name": "etteplan",
   "language": "python",
   "name": "python3"
  },
  "language_info": {
   "codemirror_mode": {
    "name": "ipython",
    "version": 3
   },
   "file_extension": ".py",
   "mimetype": "text/x-python",
   "name": "python",
   "nbconvert_exporter": "python",
   "pygments_lexer": "ipython3",
   "version": "3.11.9"
  }
 },
 "nbformat": 4,
 "nbformat_minor": 2
}
