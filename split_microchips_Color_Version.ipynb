{
 "cells": [
  {
   "cell_type": "code",
   "execution_count": 28,
   "id": "d277c8d4",
   "metadata": {},
   "outputs": [
    {
     "name": "stdout",
     "output_type": "stream",
     "text": [
      "Saved: /Users/pmmac/Desktop/output3/part_1.pcd\n",
      "Saved: /Users/pmmac/Desktop/output3/part_2.pcd\n",
      "Saved: /Users/pmmac/Desktop/output3/part_3.pcd\n",
      "Saved: /Users/pmmac/Desktop/output3/part_4.pcd\n"
     ]
    }
   ],
   "source": [
    "import open3d as o3d\n",
    "import numpy as np\n",
    "import os\n",
    "\n",
    "# Read the point cloud\n",
    "###Changed Reading Route\n",
    "pcd = o3d.io.read_point_cloud('/Users/pmmac/Desktop/OneDrive_1_2024-9-20(16-17)/data/2024-09-19_175839_243302-17/raw/tray-b-4-e_L2.pcd')\n",
    "\n",
    "# Convert to numpy arrays for easier manipulation\n",
    "points = np.asarray(pcd.points)\n",
    "colors = np.asarray(pcd.colors)  # Get the colors of the point cloud\n",
    "\n",
    "min_bound = points.min(axis=0)\n",
    "max_bound = points.max(axis=0)\n",
    "\n",
    "ranges = max_bound - min_bound\n",
    "longest_axis_index = np.argmax(ranges)  # Index of the longest axis\n",
    "\n",
    "# Define midpoints for partitioning along the longest axis\n",
    "midpoints = np.linspace(min_bound[longest_axis_index], max_bound[longest_axis_index], num=5)\n",
    "\n",
    "# Define the four parts along the longest axis\n",
    "if longest_axis_index == 0:  # Longest along x-axis\n",
    "    parts = [\n",
    "        (points[(points[:, 0] < midpoints[1])], colors[(points[:, 0] < midpoints[1])]),  # Part 1\n",
    "        (points[(points[:, 0] >= midpoints[1]) & (points[:, 0] < midpoints[2])], colors[(points[:, 0] >= midpoints[1]) & (points[:, 0] < midpoints[2])]),  # Part 2\n",
    "        (points[(points[:, 0] >= midpoints[2]) & (points[:, 0] < midpoints[3])], colors[(points[:, 0] >= midpoints[2]) & (points[:, 0] < midpoints[3])]),  # Part 3\n",
    "        (points[(points[:, 0] >= midpoints[3])], colors[(points[:, 0] >= midpoints[3])]),  # Part 4\n",
    "    ]\n",
    "elif longest_axis_index == 1:  # Longest along y-axis\n",
    "    parts = [\n",
    "        (points[(points[:, 1] < midpoints[1])], colors[(points[:, 1] < midpoints[1])]),  # Part 1\n",
    "        (points[(points[:, 1] >= midpoints[1]) & (points[:, 1] < midpoints[2])], colors[(points[:, 1] >= midpoints[1]) & (points[:, 1] < midpoints[2])]),  # Part 2\n",
    "        (points[(points[:, 1] >= midpoints[2]) & (points[:, 1] < midpoints[3])], colors[(points[:, 1] >= midpoints[2]) & (points[:, 1] < midpoints[3])]),  # Part 3\n",
    "        (points[(points[:, 1] >= midpoints[3])], colors[(points[:, 1] >= midpoints[3])]),  # Part 4\n",
    "    ]\n",
    "else:  # Longest along z-axis\n",
    "    parts = [\n",
    "        (points[(points[:, 2] < midpoints[1])], colors[(points[:, 2] < midpoints[1])]),  # Part 1\n",
    "        (points[(points[:, 2] >= midpoints[1]) & (points[:, 2] < midpoints[2])], colors[(points[:, 2] >= midpoints[1]) & (points[:, 2] < midpoints[2])]),  # Part 2\n",
    "        (points[(points[:, 2] >= midpoints[2]) & (points[:, 2] < midpoints[3])], colors[(points[:, 2] >= midpoints[2]) & (points[:, 2] < midpoints[3])]),  # Part 3\n",
    "        (points[(points[:, 2] >= midpoints[3])], colors[(points[:, 2] >= midpoints[3])]),  # Part 4\n",
    "    ]\n",
    "\n",
    "# Visualize each part while preserving original colors\n",
    "part_clouds = []\n",
    "\n",
    "### Added in output folder\n",
    "output_dir = '/Users/pmmac/Desktop/output3'  # Replace this with your desired path\n",
    "\n",
    "# Make sure the directory exists\n",
    "os.makedirs(output_dir, exist_ok=True)\n",
    "\n",
    "\n",
    "\n",
    "\n",
    "for i, (part_points, part_colors) in enumerate(parts):\n",
    "    if part_points.size > 0:  # Only create a PointCloud if there are points in the part\n",
    "        part_pcd = o3d.geometry.PointCloud()\n",
    "        part_pcd.points = o3d.utility.Vector3dVector(part_points)\n",
    "        part_pcd.colors = o3d.utility.Vector3dVector(part_colors)  # Preserve the original colors\n",
    "        part_clouds.append(part_pcd)\n",
    "        \n",
    "        output_filename = f\"{output_dir}/part_{i + 1}.pcd\"\n",
    "        # Save the part to a PCD file if needed\n",
    "        o3d.io.write_point_cloud(output_filename, part_pcd)\n",
    "        print(f\"Saved: {output_filename}\")\n",
    "\n",
    "# Draw the parts with original colors\n",
    "#o3d.visualization.draw_geometries(part_clouds, window_name=\"Partitioned Point Cloud Parts with Original Colors\", width=800, height=600)\n"
   ]
  },
  {
   "cell_type": "code",
   "execution_count": null,
   "id": "9024911c",
   "metadata": {},
   "outputs": [],
   "source": []
  }
 ],
 "metadata": {
  "kernelspec": {
   "display_name": "Python 3 (ipykernel)",
   "language": "python",
   "name": "python3"
  },
  "language_info": {
   "codemirror_mode": {
    "name": "ipython",
    "version": 3
   },
   "file_extension": ".py",
   "mimetype": "text/x-python",
   "name": "python",
   "nbconvert_exporter": "python",
   "pygments_lexer": "ipython3",
   "version": "3.11.7"
  }
 },
 "nbformat": 4,
 "nbformat_minor": 5
}
